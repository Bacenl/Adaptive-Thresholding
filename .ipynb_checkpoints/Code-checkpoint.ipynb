{
 "cells": [
  {
   "cell_type": "markdown",
   "metadata": {},
   "source": [
    "# Imports"
   ]
  },
  {
   "cell_type": "code",
   "execution_count": null,
   "metadata": {},
   "outputs": [],
   "source": [
    "%matplotlib inline\n",
    "# Core\n",
    "import numpy as np\n",
    "from PIL import Image\n",
    "import cv2\n",
    "from imageio import imwrite\n",
    "import statistics as stats\n",
    "import pandas as pd\n",
    "\n",
    "import numpy as np\n",
    "import lmfit\n",
    "from lmfit import Model\n",
    "\n",
    "# Visualization\n",
    "from matplotlib import pyplot as plt\n",
    "import matplotlib.patches as mpatches"
   ]
  },
  {
   "cell_type": "markdown",
   "metadata": {},
   "source": [
    "# Image Helper Functions"
   ]
  },
  {
   "cell_type": "code",
   "execution_count": null,
   "metadata": {},
   "outputs": [],
   "source": [
    "# Showing image\n",
    "def showImage(img, title1 = \"Original\"):\n",
    "  img = cv2.cvtColor(img, cv2.COLOR_BGR2RGB)\n",
    "  plt.imshow(img), plt.title(title1)\n",
    "  plt.show()"
   ]
  },
  {
   "cell_type": "code",
   "execution_count": null,
   "metadata": {},
   "outputs": [],
   "source": [
    "# Getting image from path\n",
    "def getImage(file_path=\"\"):\n",
    "    if file_path == \"\":\n",
    "        file_path = filedialog.askopenfilename(filetypes=[(\"Image Files\", \".png .jpg\")])\n",
    "    img = cv2.imread(file_path)\n",
    "    \n",
    "    return img"
   ]
  },
  {
   "cell_type": "code",
   "execution_count": null,
   "metadata": {},
   "outputs": [],
   "source": [
    "# To greyscale image\n",
    "def grayscale(img):\n",
    "    copy = img.copy()\n",
    "    gray = cv2.cvtColor(copy, cv2.COLOR_BGR2GRAY)\n",
    "    return gray"
   ]
  },
  {
   "cell_type": "markdown",
   "metadata": {},
   "source": [
    "# Image Processing"
   ]
  },
  {
   "cell_type": "code",
   "execution_count": null,
   "metadata": {},
   "outputs": [],
   "source": [
    "# setting up\n",
    "img = getImage(\"img3.png\")\n",
    "\n",
    "# finding area to mask off\n",
    "showImage(img[32:60,20:210,:], \"To remove\")\n",
    "\n",
    "# create mask to remove top left part\n",
    "mask = np.full(img.shape[:2], 255,np.uint8)\n",
    "mask[32:60,20:210] = 0\n",
    "masked_img = cv2.bitwise_and(img,img,mask = mask)\n",
    "showImage(masked_img, \"Masked Image\")\n",
    "\n",
    "gray = grayscale(masked_img)"
   ]
  },
  {
   "cell_type": "markdown",
   "metadata": {},
   "source": [
    "# Visualization"
   ]
  },
  {
   "cell_type": "markdown",
   "metadata": {},
   "source": [
    "## Images"
   ]
  },
  {
   "cell_type": "code",
   "execution_count": null,
   "metadata": {},
   "outputs": [],
   "source": [
    "# showing images\n",
    "plt.subplot(1,2,1), plt.imshow(cv2.cvtColor(masked_img, cv2.COLOR_BGR2RGB))\n",
    "plt.title(\"Original\"), plt.xticks([]), plt.yticks([])\n",
    "plt.subplot(1,2,2), plt.imshow(cv2.cvtColor(gray, cv2.COLOR_BGR2RGB))\n",
    "plt.title(\"Gray\"), plt.xticks([]), plt.yticks([])\n",
    "plt.show()\n",
    "\n",
    "# creating histograms of grayscaled image\n",
    "histMask = cv2.calcHist([gray],[0],mask,[256],[0,256])\n",
    "plt.title(\"Histogram\")\n",
    "plt.plot(histMask);plt.show()"
   ]
  },
  {
   "cell_type": "markdown",
   "metadata": {},
   "source": [
    "## Intensity within a single row"
   ]
  },
  {
   "cell_type": "code",
   "execution_count": null,
   "metadata": {},
   "outputs": [],
   "source": [
    "grayLine = gray[650,:]\n",
    "\n",
    "plt.plot(np.arange(len(grayLine)),grayLine,\"k\");plt.show()"
   ]
  },
  {
   "cell_type": "markdown",
   "metadata": {},
   "source": [
    "# 2D Gaussian Curve Fitting"
   ]
  },
  {
   "cell_type": "markdown",
   "metadata": {},
   "source": [
    "## 2D Gaussian Function"
   ]
  },
  {
   "cell_type": "code",
   "execution_count": null,
   "metadata": {},
   "outputs": [],
   "source": [
    "def gaussian(coordinates, height ,cenX, cenY, widthX, widthY):\n",
    "    x = coordinates[:, 0]\n",
    "    y = coordinates[:, 1]\n",
    "    return height * np.exp(-(x-cenX)**2 / (2*widthX**2)-(y-cenY)**2 / (2*widthY**2))"
   ]
  },
  {
   "cell_type": "markdown",
   "metadata": {},
   "source": [
    "## Initializing Data"
   ]
  },
  {
   "cell_type": "code",
   "execution_count": null,
   "metadata": {},
   "outputs": [],
   "source": [
    "# initializing data arrays\n",
    "width = len(gray[0])\n",
    "height = len(gray[:,0])\n",
    "\n",
    "data = np.empty((width*height,3))\n",
    "\n",
    "#widthArray = np.linspace(-width/2 , width/2, width)\n",
    "#heightArray = np.linspace(-height/2 , height/2, height)\n",
    "\n",
    "widthArray = np.arange(len(gray[0]))\n",
    "heightArray = np.arange(len(gray[:,0]))\n",
    "\n",
    "xx, yy = np.meshgrid(widthArray,heightArray)\n",
    "\n",
    "data[:,0] = xx.flatten()\n",
    "data[:,1] = yy.flatten()\n",
    "data[:,2] = gray[:,:].flatten()\n",
    "\n",
    "plt.imshow(data[:, 2].reshape(height,width))"
   ]
  },
  {
   "cell_type": "markdown",
   "metadata": {},
   "source": [
    "## Curve Fitting"
   ]
  },
  {
   "cell_type": "code",
   "execution_count": null,
   "metadata": {},
   "outputs": [],
   "source": [
    "defaultHeight = 10\n",
    "defaultCenX = 500\n",
    "defaultCenY = 300\n",
    "defaultWidthX = 500\n",
    "defaultWidthY = 500\n",
    "\n",
    "model = Model(gaussian)\n",
    "\n",
    "model.set_param_hint('height', value=1, min=0, max=1000)\n",
    "model.set_param_hint('cenX', value=defaultCenX, min=0, max=width)\n",
    "model.set_param_hint('cenY', value=defaultCenY, min=0, max=height)\n",
    "model.set_param_hint('widthX', value=defaultWidthX, min=100, max=1600)\n",
    "model.set_param_hint('widthY', value=defaultWidthY, min=100, max=1600)\n",
    "params = model.make_params()\n",
    "result = model.fit(data[:, 2], coordinates=data[:, 0:2], params=params)\n",
    "print(result.fit_report(min_correl=0.60))\n",
    "print(result.best_values)\n",
    "plt.imshow(result.best_fit.reshape(height,width))"
   ]
  },
  {
   "cell_type": "markdown",
   "metadata": {},
   "source": [
    "## Visualisation of Curve Fitting"
   ]
  },
  {
   "cell_type": "code",
   "execution_count": null,
   "metadata": {},
   "outputs": [],
   "source": [
    "initFigure = plt.figure(figsize=(13, 7))\n",
    "iniAxes = plt.axes(projection='3d')\n",
    "initialSurface = iniAxes.plot_surface(xx, yy, data[:,2].reshape(height,width), rstride=1, cstride=1, cmap='coolwarm', edgecolor='none')\n",
    "iniAxes.axes.set_ylim3d(bottom=0, top=256)\n",
    "iniAxes.set_xlabel('Height')\n",
    "iniAxes.set_ylabel('Width')\n",
    "iniAxes.set_zlabel('Intensity')\n",
    "iniAxes.set_title('Intensity plot of Original Image')\n",
    "initFigure.colorbar(initialSurface, shrink=0.5, aspect=5)\n",
    "iniAxes.view_init(35, 35)"
   ]
  },
  {
   "cell_type": "code",
   "execution_count": null,
   "metadata": {},
   "outputs": [],
   "source": [
    "fittedFigure = plt.figure(figsize=(13, 7))\n",
    "fittedAxes = plt.axes(projection='3d')\n",
    "fittedSurface = fittedAxes.plot_surface(xx, yy, result.best_fit.reshape(height,width), rstride=1, cstride=1, cmap='coolwarm', edgecolor='none')\n",
    "fittedAxes.axes.set_ylim3d(bottom=0, top=256)\n",
    "fittedAxes.set_xlabel('Height')\n",
    "fittedAxes.set_ylabel('Width')\n",
    "fittedAxes.set_zlabel('Intensity')\n",
    "fittedAxes.set_title('Intensity plot of Fitted Curve')\n",
    "fittedFigure.colorbar(fittedSurface, shrink=0.5, aspect=5) \n",
    "fittedAxes.view_init(35, 35)"
   ]
  },
  {
   "cell_type": "markdown",
   "metadata": {},
   "source": [
    "# Correction of Image"
   ]
  },
  {
   "cell_type": "markdown",
   "metadata": {},
   "source": [
    "## Correction"
   ]
  },
  {
   "cell_type": "markdown",
   "metadata": {},
   "source": [
    "# Thresholding"
   ]
  },
  {
   "cell_type": "markdown",
   "metadata": {},
   "source": [
    "## Helper Function"
   ]
  },
  {
   "cell_type": "code",
   "execution_count": null,
   "metadata": {},
   "outputs": [],
   "source": [
    "# Open and Close morph\n",
    "def morph(img, openIter = 3, closeIter = 3):\n",
    "    clean = cv2.morphologyEx(img, cv2.MORPH_OPEN, kernel, iterations=openIter)\n",
    "    clean = cv2.morphologyEx(clean, cv2.MORPH_CLOSE, kernel, iterations=closeIter)\n",
    "    return clean"
   ]
  },
  {
   "cell_type": "markdown",
   "metadata": {},
   "source": [
    "## Adaptive Thresholding"
   ]
  },
  {
   "cell_type": "code",
   "execution_count": null,
   "metadata": {},
   "outputs": [],
   "source": [
    "def adaptiveThresholding(img, blockSize=505, C=-2):\n",
    "    gray = cv2.adaptiveThreshold(\n",
    "        img, 255, cv2.ADAPTIVE_THRESH_GAUSSIAN_C, cv2.THRESH_BINARY, blockSize, C\n",
    "    )  ########## 2 magic numbers here\n",
    "    plt.subplot(1,3,1),plt.imshow(img,'gray')\n",
    "    plt.title('Original Noisy Image'), plt.xticks([]), plt.yticks([])\n",
    "    plt.subplot(1,3,2),plt.hist(img.ravel(),256)\n",
    "    plt.title('Histogram'), plt.xticks([]), plt.yticks([])\n",
    "    plt.subplot(1,3,3),plt.imshow(gray,'gray')\n",
    "    plt.title(\"OpenCV Adaptive Thresholding\"), plt.xticks([]), plt.yticks([])   \n",
    "    \n",
    "    plt.show()\n",
    "    return gray\n",
    "showImage(adaptiveThresholding(gray, blockSize=505, C=0), \"Adaptive Thresholding\")"
   ]
  },
  {
   "cell_type": "markdown",
   "metadata": {},
   "source": [
    "## Otsu Thresholding (Global)"
   ]
  },
  {
   "cell_type": "code",
   "execution_count": null,
   "metadata": {},
   "outputs": [],
   "source": [
    "def otsuThresholding(img):\n",
    "    ret2,th2 = cv2.threshold(img,0,255,cv2.THRESH_BINARY+cv2.THRESH_OTSU)\n",
    "    \n",
    "    blur = cv2.GaussianBlur(img,(5,5),0)\n",
    "    ret3,th3 = cv2.threshold(blur,0,255,cv2.THRESH_BINARY+cv2.THRESH_OTSU)\n",
    "    \n",
    "    plt.subplot(2,3,1),plt.imshow(img,'gray')\n",
    "    plt.title('Original Noisy Image'), plt.xticks([]), plt.yticks([])\n",
    "    plt.subplot(2,3,2),plt.hist(img.ravel(),256)\n",
    "    plt.title('Histogram'), plt.xticks([]), plt.yticks([])\n",
    "    plt.subplot(2,3,3),plt.imshow(th2,'gray')\n",
    "    plt.title(\"Otsu's Thresholding\"), plt.xticks([]), plt.yticks([])   \n",
    "    \n",
    "    plt.subplot(2,3,4),plt.imshow(blur,'gray')\n",
    "    plt.title('Gaussian filtered Image'), plt.xticks([]), plt.yticks([])\n",
    "    plt.subplot(2,3,5),plt.hist(blur.ravel(),256)\n",
    "    plt.title('Histogram'), plt.xticks([]), plt.yticks([])\n",
    "    plt.subplot(2,3,6),plt.imshow(th3,'gray')\n",
    "    plt.title(\"Otsu's Thresholding\"), plt.xticks([]), plt.yticks([])   \n",
    "\n",
    "    plt.show()\n",
    "    return th3\n",
    "\n",
    "showImage(otsuThresholding(gray),\"Otsu's Thresholding (Filtered)\")"
   ]
  },
  {
   "cell_type": "markdown",
   "metadata": {},
   "source": [
    "## Attempt to split into subimages and apply Otsu"
   ]
  },
  {
   "cell_type": "code",
   "execution_count": null,
   "metadata": {},
   "outputs": [],
   "source": [
    "def splitOtsu(img, splitNo, kernel):\n",
    "    blur = cv2.GaussianBlur(img,kernel,0)\n",
    "    height,width=img.shape[:2]\n",
    "    \n",
    "    for heightIndex in range(splitNo):\n",
    "        for widthIndex in range(splitNo):\n",
    "            heightFactor = height//splitNo\n",
    "            startSplitHeight = heightIndex*heightFactor\n",
    "            endSplitHeight = (heightIndex+1)*heightFactor\n",
    "            \n",
    "            widthFactor = width//splitNo\n",
    "            startSplitWidth = widthIndex*widthFactor\n",
    "            endSplitWidth = (widthIndex+1)*widthFactor\n",
    "            \n",
    "            ret3,th3 = cv2.threshold(blur[startSplitHeight:endSplitHeight,startSplitWidth:endSplitWidth],0,255,cv2.THRESH_BINARY+cv2.THRESH_OTSU)\n",
    "            blur[startSplitHeight:endSplitHeight,startSplitWidth:endSplitWidth]=th3 \n",
    "             \n",
    "    plt.subplot(1,5,1),plt.imshow(img,'gray')\n",
    "    plt.title('Original Noisy Image'), plt.xticks([]), plt.yticks([])\n",
    "    \n",
    "    plt.subplot(1,5,2),plt.hist(img.ravel(),256)\n",
    "    plt.title('Histogram'), plt.xticks([]), plt.yticks([])\n",
    "    \n",
    "    plt.subplot(1,5,3),plt.imshow(th3,'gray')\n",
    "    plt.title('Piece'), plt.xticks([]), plt.yticks([])\n",
    "    \n",
    "    plt.subplot(1,5,5),plt.imshow(blur,'gray')\n",
    "    plt.title(\"Split Otsu Thresholding\"), plt.xticks([]), plt.yticks([])\n",
    "    \n",
    "    plt.show()\n",
    "    \n",
    "    return blur\n",
    "\n",
    "split = 10\n",
    "plt.imshow(cv2.cvtColor(splitOtsu(morph(gray,5,3),split,(5,5)), cv2.COLOR_BGR2RGB)), plt.title(\"Split Otsu Thresholding (Split: \" + str(split) + \") with morph\")\n",
    "plt.show()\n",
    "\n",
    "plt.imshow(cv2.cvtColor(splitOtsu(gray,split,(5,5)), cv2.COLOR_BGR2RGB)), plt.title(\"Split Otsu Thresholding (Split: \" + str(split) + \")\")\n",
    "plt.show()"
   ]
  }
 ],
 "metadata": {
  "kernelspec": {
   "display_name": "Python 3",
   "language": "python",
   "name": "python3"
  },
  "language_info": {
   "codemirror_mode": {
    "name": "ipython",
    "version": 3
   },
   "file_extension": ".py",
   "mimetype": "text/x-python",
   "name": "python",
   "nbconvert_exporter": "python",
   "pygments_lexer": "ipython3",
   "version": "3.8.5"
  }
 },
 "nbformat": 4,
 "nbformat_minor": 4
}
